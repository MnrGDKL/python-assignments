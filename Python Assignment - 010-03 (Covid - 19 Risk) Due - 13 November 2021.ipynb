{
 "cells": [
  {
   "cell_type": "markdown",
   "id": "6b233612-8d62-40ba-927d-c3f0d86bdf83",
   "metadata": {},
   "source": [
    "Problem :\n",
    "\n",
    "Task : Estimating the risk of death from coronavirus.\n",
    "\n",
    "Consider the following questions in terms of True/False regarding anyone else.\n",
    "\n",
    "Are you a cigarette addict older than 75 years old? Variable → age\n",
    "\n",
    "Do you have a severe chronic disease? Variable → chronic\n",
    "\n",
    "Is your immune system too weak? Variable → immune\n",
    "\n",
    "Set a logical algorithm using boolean logic operators (and/or) and the given variables in order to give us True (there is a risk of death) or False (there is not a risk of death) as a result."
   ]
  },
  {
   "cell_type": "markdown",
   "id": "b178dd7d-f6f0-4714-879f-a5f146c1be21",
   "metadata": {},
   "source": [
    "age =  # can be assigned only True/False\n",
    "chronic =  # can be assigned only True/False\n",
    "immune =  # can be assigned only True/False\n",
    "risk = ? (True or False)"
   ]
  },
  {
   "cell_type": "code",
   "execution_count": null,
   "id": "e4db7302-6cbf-4dee-9223-225e529cc17e",
   "metadata": {},
   "outputs": [],
   "source": [
    "age = input(\"Are you a cigarette addict older than 75 years old? (True/False): \")\n",
    "age = age.upper()\n",
    "\n",
    "chronic = input(\"Do you have a severe chronic disease? (True/False): \")\n",
    "chronic = chronic.upper()\n",
    "\n",
    "immune = input(\"Is your immune system too weak? (True/False): \")\n",
    "immune = immune.upper()\n",
    "\n",
    "if age == \"TRUE\":\n",
    "    age = True\n",
    "else:\n",
    "    age = False\n",
    "\n",
    "if chronic == \"TRUE\":\n",
    "    chronic = True\n",
    "else:\n",
    "    chronic = False\n",
    "\n",
    "if immune == \"TRUE\":\n",
    "    immune = True\n",
    "else:\n",
    "    immune = False\n",
    "\n",
    "risk = age or chronic or immune\n",
    "\n",
    "print (\"\\nCiggaretteAddiction : \", age)\n",
    "print (\"Chronic Disease Risk: \", chronic)\n",
    "print (\"Immune Risk: \", immune, \"\\n\\n\")\n",
    "\n",
    "if risk == True:\n",
    "    print (\"*** There is a RISK of death ***\")\n",
    "else:\n",
    "    print (\"*** There is NOT a risk of death ***\")"
   ]
  },
  {
   "cell_type": "code",
   "execution_count": null,
   "id": "ead94261-de44-48b7-b1cc-d31553ce044d",
   "metadata": {},
   "outputs": [],
   "source": []
  }
 ],
 "metadata": {
  "kernelspec": {
   "display_name": "Python 3",
   "language": "python",
   "name": "python3"
  },
  "language_info": {
   "codemirror_mode": {
    "name": "ipython",
    "version": 3
   },
   "file_extension": ".py",
   "mimetype": "text/x-python",
   "name": "python",
   "nbconvert_exporter": "python",
   "pygments_lexer": "ipython3",
   "version": "3.8.8"
  }
 },
 "nbformat": 4,
 "nbformat_minor": 5
}
