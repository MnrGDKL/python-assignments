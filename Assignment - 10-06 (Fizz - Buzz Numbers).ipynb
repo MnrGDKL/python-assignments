{
 "cells": [
  {
   "cell_type": "code",
   "execution_count": null,
   "id": "29cc06f7-42e8-4ee0-9dac-45b2c7656aa4",
   "metadata": {},
   "outputs": [],
   "source": [
    "def FizzBuzzNums():\n",
    "    nums = [\"FizzBuzz\" if i % 15 == 0 \\\n",
    "            else \"Fizz\" if i % 3 == 0 \\\n",
    "            else \"Buzz\" if i % 5 == 0 \\\n",
    "            else i for i in range(1, 101)]\n",
    "    return nums\n",
    "\n",
    "print(*FizzBuzzNums(), sep=\"\\n\") "
   ]
  }
 ],
 "metadata": {
  "kernelspec": {
   "display_name": "Python 3",
   "language": "python",
   "name": "python3"
  },
  "language_info": {
   "codemirror_mode": {
    "name": "ipython",
    "version": 3
   },
   "file_extension": ".py",
   "mimetype": "text/x-python",
   "name": "python",
   "nbconvert_exporter": "python",
   "pygments_lexer": "ipython3",
   "version": "3.8.8"
  }
 },
 "nbformat": 4,
 "nbformat_minor": 5
}
