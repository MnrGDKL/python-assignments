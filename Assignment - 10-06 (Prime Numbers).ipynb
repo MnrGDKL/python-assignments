{
 "cells": [
  {
   "cell_type": "code",
   "execution_count": null,
   "id": "679e437a-6aba-4e5e-99ac-c39986de7d4e",
   "metadata": {},
   "outputs": [],
   "source": [
    "def primeNumbers(number):\n",
    "    prime_numbers = []\n",
    "    for i in range(2, number+1):\n",
    "        divisers = tuple(j for j in range(1, i + 1) if i % j == 0)\n",
    "        if len(divisers) == 2 :\n",
    "            prime_numbers.append(i)\n",
    "    return prime_numbers\n",
    "\n",
    "print(primeNumbers(int(input(\"n =\"))))"
   ]
  }
 ],
 "metadata": {
  "kernelspec": {
   "display_name": "Python 3",
   "language": "python",
   "name": "python3"
  },
  "language_info": {
   "codemirror_mode": {
    "name": "ipython",
    "version": 3
   },
   "file_extension": ".py",
   "mimetype": "text/x-python",
   "name": "python",
   "nbconvert_exporter": "python",
   "pygments_lexer": "ipython3",
   "version": "3.8.8"
  }
 },
 "nbformat": 4,
 "nbformat_minor": 5
}
