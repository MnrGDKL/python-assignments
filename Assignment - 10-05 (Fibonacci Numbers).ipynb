{
 "cells": [
  {
   "cell_type": "code",
   "execution_count": 20,
   "id": "0883aa62-6922-45c4-833e-02f738cfab20",
   "metadata": {},
   "outputs": [
    {
     "name": "stdout",
     "output_type": "stream",
     "text": [
      "[1, 1, 2, 3, 5, 8, 13, 21, 34, 55]\n"
     ]
    }
   ],
   "source": [
    "def fibonacci_numbers():\n",
    "    numbers = []\n",
    "    while len(numbers) < 2:\n",
    "        numbers.append(1)\n",
    "    while numbers[-1] < 55:\n",
    "        numbers.append(numbers[-2] + numbers[-1])\n",
    "    return numbers\n",
    "\n",
    "print(fibonacci_numbers())"
   ]
  },
  {
   "cell_type": "code",
   "execution_count": null,
   "id": "d2159db8-33ea-40a1-9afb-677cf8f62ca6",
   "metadata": {},
   "outputs": [],
   "source": []
  }
 ],
 "metadata": {
  "kernelspec": {
   "display_name": "Python 3",
   "language": "python",
   "name": "python3"
  },
  "language_info": {
   "codemirror_mode": {
    "name": "ipython",
    "version": 3
   },
   "file_extension": ".py",
   "mimetype": "text/x-python",
   "name": "python",
   "nbconvert_exporter": "python",
   "pygments_lexer": "ipython3",
   "version": "3.8.8"
  }
 },
 "nbformat": 4,
 "nbformat_minor": 5
}
