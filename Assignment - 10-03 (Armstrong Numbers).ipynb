{
 "cells": [
  {
   "cell_type": "code",
   "execution_count": null,
   "id": "b343b6b4-516d-4feb-96f2-796a77562293",
   "metadata": {},
   "outputs": [],
   "source": [
    "def amstrong(number): \n",
    "    total = 0\n",
    "    for i in str(number):\n",
    "        total += int(i) ** len(number)\n",
    "    if total == int(number):\n",
    "        print(f\"{number} is an ARMSTRONG number\")\n",
    "    else:\n",
    "        print(f\"{number} is NOT an Armstrong number!\")\n",
    "            \n",
    "user_input = input(\"Enter a Number: \")\n",
    "number_list = [i for i in user_input if i not in list(\"1234567890\")]\n",
    "if len(number_list) != 0:\n",
    "    print(\"It is an invalid entry. Don't use non-numeric, float, or negative values!\")\n",
    "else:\n",
    "    amstrong(user_input)"
   ]
  }
 ],
 "metadata": {
  "kernelspec": {
   "display_name": "Python 3",
   "language": "python",
   "name": "python3"
  },
  "language_info": {
   "codemirror_mode": {
    "name": "ipython",
    "version": 3
   },
   "file_extension": ".py",
   "mimetype": "text/x-python",
   "name": "python",
   "nbconvert_exporter": "python",
   "pygments_lexer": "ipython3",
   "version": "3.8.8"
  }
 },
 "nbformat": 4,
 "nbformat_minor": 5
}
