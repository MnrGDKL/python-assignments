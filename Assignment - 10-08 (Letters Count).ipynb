{
 "cells": [
  {
   "cell_type": "code",
   "execution_count": null,
   "id": "9657426c-aac4-4f57-be80-f2c02ae3df37",
   "metadata": {},
   "outputs": [],
   "source": [
    "def CountLetters(sentence=\"\"):\n",
    "    copy_sentence = sentence\n",
    "    count_letter = dict()\n",
    "    count = 0\n",
    "    for i in sentence:\n",
    "        for j in copy_sentence:\n",
    "            if i == j:\n",
    "                count += 1\n",
    "        count_letter[i] = count\n",
    "        count = 0\n",
    "    return count_letter\n",
    "\n",
    "CountLetters(input(\"Enter Your Sentence: \"))"
   ]
  }
 ],
 "metadata": {
  "kernelspec": {
   "display_name": "Python 3",
   "language": "python",
   "name": "python3"
  },
  "language_info": {
   "codemirror_mode": {
    "name": "ipython",
    "version": 3
   },
   "file_extension": ".py",
   "mimetype": "text/x-python",
   "name": "python",
   "nbconvert_exporter": "python",
   "pygments_lexer": "ipython3",
   "version": "3.8.8"
  }
 },
 "nbformat": 4,
 "nbformat_minor": 5
}
