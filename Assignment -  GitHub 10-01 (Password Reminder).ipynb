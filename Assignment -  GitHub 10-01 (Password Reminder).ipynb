{
 "cells": [
  {
   "cell_type": "code",
   "execution_count": 1,
   "id": "0be47e16-4086-432a-84fb-0f24e878a28e",
   "metadata": {},
   "outputs": [
    {
     "name": "stdin",
     "output_type": "stream",
     "text": [
      "Please input your name to see the password=  joseph\n"
     ]
    },
    {
     "name": "stdout",
     "output_type": "stream",
     "text": [
      "Hello Joseph! The password is: W@12\n"
     ]
    }
   ],
   "source": [
    "myname = \"Munir\"\n",
    "first_name = input(\"Please input your name to see the password= \")\n",
    "\n",
    "if first_name.title() == myname:\n",
    "  print(f\"Hello Munir! The password is: W@12\")\n",
    "else:\n",
    "  print(f\"Hello {first_name}! See you later.\")"
   ]
  },
  {
   "cell_type": "code",
   "execution_count": null,
   "id": "aba4f025-7ce5-4a26-bccd-7ceb0544888e",
   "metadata": {},
   "outputs": [],
   "source": []
  }
 ],
 "metadata": {
  "kernelspec": {
   "display_name": "Python 3",
   "language": "python",
   "name": "python3"
  },
  "language_info": {
   "codemirror_mode": {
    "name": "ipython",
    "version": 3
   },
   "file_extension": ".py",
   "mimetype": "text/x-python",
   "name": "python",
   "nbconvert_exporter": "python",
   "pygments_lexer": "ipython3",
   "version": "3.8.8"
  }
 },
 "nbformat": 4,
 "nbformat_minor": 5
}
