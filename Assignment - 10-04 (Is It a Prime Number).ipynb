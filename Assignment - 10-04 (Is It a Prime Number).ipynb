{
 "cells": [
  {
   "cell_type": "code",
   "execution_count": null,
   "id": "4f8e84e0-0c2a-4b00-8f8b-a59e2d61f481",
   "metadata": {},
   "outputs": [],
   "source": [
    "def prime_number(number):\n",
    "    divisers = tuple(i for i in range(1, number + 1) if number % i == 0)\n",
    "    print(f\"The Divisers of the entered number are {divisers}\")\n",
    "    print(number, \"is a PRIME Number.\" if len(divisers) == 2 else \"is NOT a Prime Number!\")\n",
    "\n",
    "\n",
    "prime_number(int(input(\"Enter your Number: \")))"
   ]
  }
 ],
 "metadata": {
  "kernelspec": {
   "display_name": "Python 3",
   "language": "python",
   "name": "python3"
  },
  "language_info": {
   "codemirror_mode": {
    "name": "ipython",
    "version": 3
   },
   "file_extension": ".py",
   "mimetype": "text/x-python",
   "name": "python",
   "nbconvert_exporter": "python",
   "pygments_lexer": "ipython3",
   "version": "3.8.8"
  }
 },
 "nbformat": 4,
 "nbformat_minor": 5
}
